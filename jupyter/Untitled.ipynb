{
 "cells": [
  {
   "cell_type": "code",
   "execution_count": 4,
   "metadata": {
    "collapsed": true
   },
   "outputs": [
    {
     "name": "stdout",
     "output_type": "stream",
     "text": [
      "Package         Version    \n",
      "--------------- -----------\n",
      "absl-py         0.2.0      \n",
      "astor           0.6.2      \n",
      "attrs           17.4.0     \n",
      "beautifulsoup4  4.6.0      \n",
      "bleach          2.1.3      \n",
      "certifi         2018.4.16  \n",
      "chardet         3.0.4      \n",
      "cycler          0.10.0     \n",
      "deco            0.5.2      \n",
      "decorator       4.3.0      \n",
      "enum34          1.1.6      \n",
      "gast            0.2.0      \n",
      "grpcio          1.11.0     \n",
      "html5lib        1.0.1      \n",
      "idna            2.6        \n",
      "imageio         2.3.0      \n",
      "kiwisolver      1.0.1      \n",
      "lightgbm        2.1.1      \n",
      "lxml            4.2.1      \n",
      "Markdown        2.6.11     \n",
      "matplotlib      2.2.2      \n",
      "networkx        2.1        \n",
      "numpy           1.14.3     \n",
      "opencv-python   3.4.0.12   \n",
      "pandas          0.22.0     \n",
      "Pillow          5.1.0      \n",
      "pip             10.0.1     \n",
      "progressbar2    3.37.1     \n",
      "protobuf        3.5.2.post1\n",
      "PyGuitarPro     0.4        \n",
      "pyparsing       2.2.0      \n",
      "python-dateutil 2.7.2      \n",
      "python-utils    2.3.0      \n",
      "pytz            2018.4     \n",
      "PyWavelets      0.5.2      \n",
      "requests        2.18.4     \n",
      "scikit-image    0.13.1     \n",
      "scikit-learn    0.19.1     \n",
      "scipy           1.0.1      \n",
      "selenium        3.12.0     \n",
      "setuptools      39.1.0     \n",
      "six             1.11.0     \n",
      "tensorboard     1.8.0      \n",
      "tensorflow      1.8.0      \n",
      "tensorflow-gpu  1.8.0      \n",
      "termcolor       1.1.0      \n",
      "urllib3         1.22       \n",
      "webencodings    0.5.1      \n",
      "Werkzeug        0.14.1     \n",
      "wheel           0.31.1     \n",
      "wincertstore    0.2        \n",
      "xgboost         0.71       \n"
     ]
    }
   ],
   "source": [
    "!pip list"
   ]
  },
  {
   "cell_type": "code",
   "execution_count": 6,
   "metadata": {},
   "outputs": [
    {
     "ename": "ModuleNotFoundError",
     "evalue": "No module named 'selenium'",
     "output_type": "error",
     "traceback": [
      "\u001b[1;31m---------------------------------------------------------------------------\u001b[0m",
      "\u001b[1;31mModuleNotFoundError\u001b[0m                       Traceback (most recent call last)",
      "\u001b[1;32m<ipython-input-6-f27c76107292>\u001b[0m in \u001b[0;36m<module>\u001b[1;34m()\u001b[0m\n\u001b[0;32m      1\u001b[0m \u001b[0mbase_url\u001b[0m \u001b[1;33m=\u001b[0m \u001b[1;34m'http://www.ppomppu.co.kr/zboard/zboard.php?id=freeboard&no=5836128'\u001b[0m\u001b[1;33m\u001b[0m\u001b[0m\n\u001b[1;32m----> 2\u001b[1;33m \u001b[1;32mfrom\u001b[0m \u001b[0mselenium\u001b[0m \u001b[1;32mimport\u001b[0m \u001b[0mwebdriver\u001b[0m\u001b[1;33m\u001b[0m\u001b[0m\n\u001b[0m\u001b[0;32m      3\u001b[0m \u001b[0mchromediver_path\u001b[0m \u001b[1;33m=\u001b[0m \u001b[1;34m'C:\\\\Users\\demetoir_desktop\\\\PycharmProjects\\\\kaggle-MLtools\\\\chromedriver_win32'\u001b[0m\u001b[1;33m\u001b[0m\u001b[0m\n\u001b[0;32m      4\u001b[0m \u001b[0mdriver\u001b[0m \u001b[1;33m=\u001b[0m \u001b[0mwebdriver\u001b[0m\u001b[1;33m.\u001b[0m\u001b[0mChrome\u001b[0m\u001b[1;33m(\u001b[0m\u001b[0mos\u001b[0m\u001b[1;33m.\u001b[0m\u001b[0mpath\u001b[0m\u001b[1;33m.\u001b[0m\u001b[0mjoin\u001b[0m\u001b[1;33m(\u001b[0m\u001b[0mchromediver_path\u001b[0m\u001b[1;33m,\u001b[0m \u001b[1;34m'chromedriver'\u001b[0m\u001b[1;33m)\u001b[0m\u001b[1;33m)\u001b[0m\u001b[1;33m\u001b[0m\u001b[0m\n\u001b[0;32m      5\u001b[0m \u001b[1;31m# driver = webdriver.PhantomJS(os.path.join('.', 'phantomjs-2.1.1-windows', 'bin', 'phantomjs'))\u001b[0m\u001b[1;33m\u001b[0m\u001b[1;33m\u001b[0m\u001b[0m\n",
      "\u001b[1;31mModuleNotFoundError\u001b[0m: No module named 'selenium'"
     ]
    }
   ],
   "source": [
    "from selenium import webdriver\n",
    "import os\n",
    "\n",
    "chromediver_path = 'C:\\\\Users\\demetoir_desktop\\\\PycharmProjects\\\\kaggle-MLtools\\\\chromedriver_win32'\n",
    "driver = webdriver.Chrome(os.path.join(chromediver_path, 'chromedriver'))\n",
    "# driver = webdriver.PhantomJS(os.path.join('.', 'phantomjs-2.1.1-windows', 'bin', 'phantomjs'))\n",
    "\n",
    "base_url = 'http://www.ppomppu.co.kr/zboard/zboard.php?id=freeboard&no=5836128'\n",
    "\n",
    "driver.get(base_url)\n"
   ]
  },
  {
   "cell_type": "code",
   "execution_count": 9,
   "metadata": {},
   "outputs": [
    {
     "data": {
      "text/plain": [
       "('http://www.ppomppu.co.kr/zboard/view.php', 'id=faq&no=2')"
      ]
     },
     "execution_count": 9,
     "metadata": {},
     "output_type": "execute_result"
    }
   ],
   "source": [
    "base_url = 'http://www.ppomppu.co.kr/zboard/zboard.php?id=freeboard&no=5836128'\n",
    "base_url = 'http://www.ppomppu.co.kr/zboard/view.php?id=faq&no=2'\n",
    "show_comment_page = \"\"\"javascript:go_page( \"faq\", 2, 1 ); return false;\"\"\"\n",
    "go_comment_page_n = \"\"\"javascript:go_page( \"faq\", 2, {} ); return false;\"\"\"\n",
    "\n",
    "url, querys = base_url.split('?')\n",
    "\n",
    "url, querys"
   ]
  },
  {
   "cell_type": "code",
   "execution_count": 11,
   "metadata": {},
   "outputs": [
    {
     "data": {
      "text/plain": [
       "['id=faq', 'no=2']"
      ]
     },
     "execution_count": 11,
     "metadata": {},
     "output_type": "execute_result"
    }
   ],
   "source": [
    "query_list = querys.split('&')\n",
    "query_list"
   ]
  },
  {
   "cell_type": "code",
   "execution_count": 13,
   "metadata": {},
   "outputs": [
    {
     "data": {
      "text/plain": [
       "{'id': 'faq', 'no': '2'}"
      ]
     },
     "execution_count": 13,
     "metadata": {},
     "output_type": "execute_result"
    }
   ],
   "source": [
    "query_dict = {}\n",
    "for s in query_list:\n",
    "    name, val = s.split('=')\n",
    "    query_dict[name] = val\n",
    "query_dict"
   ]
  },
  {
   "cell_type": "code",
   "execution_count": null,
   "metadata": {},
   "outputs": [],
   "source": []
  },
  {
   "cell_type": "code",
   "execution_count": null,
   "metadata": {},
   "outputs": [],
   "source": []
  }
 ],
 "metadata": {
  "kernelspec": {
   "display_name": "Python 3",
   "language": "python",
   "name": "python3"
  },
  "language_info": {
   "codemirror_mode": {
    "name": "ipython",
    "version": 3
   },
   "file_extension": ".py",
   "mimetype": "text/x-python",
   "name": "python",
   "nbconvert_exporter": "python",
   "pygments_lexer": "ipython3",
   "version": "3.6.5"
  }
 },
 "nbformat": 4,
 "nbformat_minor": 2
}
